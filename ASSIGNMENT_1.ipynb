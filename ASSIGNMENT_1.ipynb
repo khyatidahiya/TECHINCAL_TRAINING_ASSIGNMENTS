{
  "nbformat": 4,
  "nbformat_minor": 0,
  "metadata": {
    "colab": {
      "name": "ASSIGNMENT 1.ipynb",
      "provenance": [],
      "authorship_tag": "ABX9TyMeH/zq40TlpmZmxyVRGzqP",
      "include_colab_link": true
    },
    "kernelspec": {
      "name": "python3",
      "display_name": "Python 3"
    },
    "language_info": {
      "name": "python"
    }
  },
  "cells": [
    {
      "cell_type": "markdown",
      "metadata": {
        "id": "view-in-github",
        "colab_type": "text"
      },
      "source": [
        "<a href=\"https://colab.research.google.com/github/khyatidahiya/TECHINCAL_TRAINING_ASSIGNMENTS/blob/main/ASSIGNMENT_1.ipynb\" target=\"_parent\"><img src=\"https://colab.research.google.com/assets/colab-badge.svg\" alt=\"Open In Colab\"/></a>"
      ]
    },
    {
      "cell_type": "code",
      "execution_count": 6,
      "metadata": {
        "colab": {
          "base_uri": "https://localhost:8080/"
        },
        "id": "1WRdIWa-cQnP",
        "outputId": "3082d981-52c8-4d82-b40d-20cfab08454f"
      },
      "outputs": [
        {
          "output_type": "stream",
          "name": "stdout",
          "text": [
            "Overwriting script1.py\n"
          ]
        }
      ],
      "source": [
        "%%writefile script1.py\n",
        "\n",
        "n1=int(input('ENTER NUMBER 1 ='))\n",
        "n2=int(input('ENTER NUMBER 2 ='))\n"
      ]
    },
    {
      "cell_type": "code",
      "source": [
        "%%writefile -a script1.py\n",
        "\n",
        "if n1>n2:\n",
        "  print(n1,\"is larger than\",n2)\n",
        "else:\n",
        "  print(n2,\"is larger than\",n1)"
      ],
      "metadata": {
        "colab": {
          "base_uri": "https://localhost:8080/"
        },
        "id": "CreU4M8WcvAC",
        "outputId": "d227174f-4d36-40e4-8335-4e75ede927cc"
      },
      "execution_count": 7,
      "outputs": [
        {
          "output_type": "stream",
          "name": "stdout",
          "text": [
            "Appending to script1.py\n"
          ]
        }
      ]
    },
    {
      "cell_type": "code",
      "source": [
        "%%writefile script2.py\n",
        "\n",
        "n3=int(input('ENTER NUMBER 1 ='))\n",
        "n4=int(input('ENTER NUMBER 2 ='))"
      ],
      "metadata": {
        "colab": {
          "base_uri": "https://localhost:8080/"
        },
        "id": "Z8NOB9SYdS8r",
        "outputId": "842fad03-5d8f-4d10-e624-1b09f7b538be"
      },
      "execution_count": 8,
      "outputs": [
        {
          "output_type": "stream",
          "name": "stdout",
          "text": [
            "Writing script2.py\n"
          ]
        }
      ]
    },
    {
      "cell_type": "code",
      "source": [
        "%%writefile -a script2.py\n",
        "\n",
        "if n1<n2:\n",
        "  print(n1,\"is smaller than\",n2)\n",
        "else:\n",
        "  print(n2,\"is smaller than\",n1)"
      ],
      "metadata": {
        "colab": {
          "base_uri": "https://localhost:8080/"
        },
        "id": "UanxPfzpdnhM",
        "outputId": "0905301d-f03b-4d97-ef58-cfb58a509ed8"
      },
      "execution_count": 9,
      "outputs": [
        {
          "output_type": "stream",
          "name": "stdout",
          "text": [
            "Appending to script2.py\n"
          ]
        }
      ]
    }
  ]
}