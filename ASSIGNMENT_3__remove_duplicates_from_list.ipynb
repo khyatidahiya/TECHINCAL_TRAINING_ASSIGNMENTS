{
  "nbformat": 4,
  "nbformat_minor": 0,
  "metadata": {
    "colab": {
      "name": "ASSIGNMENT 3__remove duplicates from list.ipynb",
      "provenance": [],
      "authorship_tag": "ABX9TyM+Y539gWMZsZ7WXbxCOhKw",
      "include_colab_link": true
    },
    "kernelspec": {
      "name": "python3",
      "display_name": "Python 3"
    },
    "language_info": {
      "name": "python"
    }
  },
  "cells": [
    {
      "cell_type": "markdown",
      "metadata": {
        "id": "view-in-github",
        "colab_type": "text"
      },
      "source": [
        "<a href=\"https://colab.research.google.com/github/khyatidahiya/TECHINCAL_TRAINING_ASSIGNMENTS/blob/main/ASSIGNMENT_3__remove_duplicates_from_list.ipynb\" target=\"_parent\"><img src=\"https://colab.research.google.com/assets/colab-badge.svg\" alt=\"Open In Colab\"/></a>"
      ]
    },
    {
      "cell_type": "markdown",
      "source": [
        "Input a list of numbers from the user, and remove all the duplicate values"
      ],
      "metadata": {
        "id": "IQ3PZ0I9nAT5"
      }
    },
    {
      "cell_type": "code",
      "source": [
        "size=int(input(\"enter the size of the list=\"))\n"
      ],
      "metadata": {
        "colab": {
          "base_uri": "https://localhost:8080/"
        },
        "id": "XvxRXzSDm-7T",
        "outputId": "e64ae2b6-f696-4389-ae4b-43658f24900c"
      },
      "execution_count": 1,
      "outputs": [
        {
          "name": "stdout",
          "output_type": "stream",
          "text": [
            "enter the size of the list=10\n"
          ]
        }
      ]
    },
    {
      "cell_type": "code",
      "source": [
        "l=[]\n",
        "remov_duplicate=[]\n",
        "for i in range(0,size,1):\n",
        "  item=int(input(\"enter list element=\"))\n",
        "  l.append(item)\n",
        "\n",
        "  \n"
      ],
      "metadata": {
        "colab": {
          "base_uri": "https://localhost:8080/"
        },
        "id": "ySSVoXIynQS8",
        "outputId": "01db444a-253c-4b69-bdd5-4f1ac01713c8"
      },
      "execution_count": 4,
      "outputs": [
        {
          "name": "stdout",
          "output_type": "stream",
          "text": [
            "enter list element=12\n",
            "enter list element=12\n",
            "enter list element=13\n",
            "enter list element=4\n",
            "enter list element=5\n",
            "enter list element=6\n",
            "enter list element=3\n",
            "enter list element=13\n",
            "enter list element=12\n",
            "enter list element=45\n"
          ]
        }
      ]
    },
    {
      "cell_type": "code",
      "source": [
        "print(\"List you entered: \",l)"
      ],
      "metadata": {
        "colab": {
          "base_uri": "https://localhost:8080/"
        },
        "id": "4afHF1cUpOE1",
        "outputId": "246ed2e3-9449-4400-81e6-56262366af20"
      },
      "execution_count": 7,
      "outputs": [
        {
          "output_type": "stream",
          "name": "stdout",
          "text": [
            "List you entered:  [12, 12, 13, 4, 5, 6, 3, 13, 12, 45]\n"
          ]
        }
      ]
    },
    {
      "cell_type": "code",
      "source": [
        "remov_duplicate = [*set(l)]\n",
        "print(\"List after removing duplicate elements: \", remov_duplicate)\n",
        "\n"
      ],
      "metadata": {
        "colab": {
          "base_uri": "https://localhost:8080/"
        },
        "id": "NVg60u0-nr-r",
        "outputId": "5858b0f9-0d9b-4749-9a7b-c9efc9296141"
      },
      "execution_count": 8,
      "outputs": [
        {
          "output_type": "stream",
          "name": "stdout",
          "text": [
            "List after removing duplicate elements:  [3, 4, 5, 6, 12, 13, 45]\n"
          ]
        }
      ]
    }
  ]
}