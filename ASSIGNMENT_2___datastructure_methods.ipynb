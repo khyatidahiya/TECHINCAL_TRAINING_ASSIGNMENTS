{
  "nbformat": 4,
  "nbformat_minor": 0,
  "metadata": {
    "colab": {
      "name": "ASSIGNMENT 2 __datastructure_methods.ipynb",
      "provenance": [],
      "authorship_tag": "ABX9TyOPExPj4FadXwEaN7gGbH/1",
      "include_colab_link": true
    },
    "kernelspec": {
      "name": "python3",
      "display_name": "Python 3"
    },
    "language_info": {
      "name": "python"
    }
  },
  "cells": [
    {
      "cell_type": "markdown",
      "metadata": {
        "id": "view-in-github",
        "colab_type": "text"
      },
      "source": [
        "<a href=\"https://colab.research.google.com/github/khyatidahiya/TECHINCAL_TRAINING_ASSIGNMENTS/blob/main/ASSIGNMENT_2___datastructure_methods.ipynb\" target=\"_parent\"><img src=\"https://colab.research.google.com/assets/colab-badge.svg\" alt=\"Open In Colab\"/></a>"
      ]
    },
    {
      "cell_type": "markdown",
      "source": [
        ""
      ],
      "metadata": {
        "id": "i5sCfyz3ouRW"
      }
    },
    {
      "cell_type": "markdown",
      "source": [
        "### **LIST**"
      ],
      "metadata": {
        "id": "ngAishtOoxF_"
      }
    },
    {
      "cell_type": "markdown",
      "source": [
        "CREATING A LIST"
      ],
      "metadata": {
        "id": "dPHmNzuho83a"
      }
    },
    {
      "cell_type": "code",
      "source": [
        "l=[23,45,67,89,12,34,556,12,1,1,4,5,6,7,7,1,23,12]\n"
      ],
      "metadata": {
        "id": "CtZQaX5Eo6iP"
      },
      "execution_count": 2,
      "outputs": []
    },
    {
      "cell_type": "markdown",
      "source": [
        "Adds an element at the end of the list\n",
        "\n"
      ],
      "metadata": {
        "id": "6fJYguAkpfEs"
      }
    },
    {
      "cell_type": "code",
      "source": [
        "l.append(23)"
      ],
      "metadata": {
        "id": "5ArUsFjHptTe"
      },
      "execution_count": 3,
      "outputs": []
    },
    {
      "cell_type": "code",
      "source": [
        "l"
      ],
      "metadata": {
        "colab": {
          "base_uri": "https://localhost:8080/"
        },
        "id": "7lQgqztapbSu",
        "outputId": "58de4c72-2600-4656-c86a-42f7fba99104"
      },
      "execution_count": 4,
      "outputs": [
        {
          "output_type": "execute_result",
          "data": {
            "text/plain": [
              "[23, 45, 67, 89, 12, 34, 556, 12, 1, 1, 4, 5, 6, 7, 7, 1, 23, 12, 23]"
            ]
          },
          "metadata": {},
          "execution_count": 4
        }
      ]
    },
    {
      "cell_type": "markdown",
      "source": [
        "Removes all the elements from the list"
      ],
      "metadata": {
        "id": "Ygzouq6gp0sA"
      }
    },
    {
      "cell_type": "code",
      "source": [
        "l.clear()"
      ],
      "metadata": {
        "id": "1FkYn5GJp4SV"
      },
      "execution_count": 6,
      "outputs": []
    },
    {
      "cell_type": "code",
      "source": [
        "l"
      ],
      "metadata": {
        "colab": {
          "base_uri": "https://localhost:8080/"
        },
        "id": "qM50oU97p7Xd",
        "outputId": "7cc6dc9c-b96f-45f8-a805-5dade393b19a"
      },
      "execution_count": 7,
      "outputs": [
        {
          "output_type": "execute_result",
          "data": {
            "text/plain": [
              "[]"
            ]
          },
          "metadata": {},
          "execution_count": 7
        }
      ]
    },
    {
      "cell_type": "markdown",
      "source": [
        "Returns a copy of the list"
      ],
      "metadata": {
        "id": "-oAKPhPvp9_A"
      }
    },
    {
      "cell_type": "code",
      "source": [
        "p=[12,12,34,5,6,7,8,12,4,5,5]\n",
        "q=p.copy()"
      ],
      "metadata": {
        "id": "4g--RIWvqFX7"
      },
      "execution_count": 9,
      "outputs": []
    },
    {
      "cell_type": "code",
      "source": [
        "q"
      ],
      "metadata": {
        "colab": {
          "base_uri": "https://localhost:8080/"
        },
        "id": "_Q4zGXicqN9z",
        "outputId": "f87a6a36-3572-4c9e-ba3c-14ec951dc3f9"
      },
      "execution_count": 10,
      "outputs": [
        {
          "output_type": "execute_result",
          "data": {
            "text/plain": [
              "[12, 12, 34, 5, 6, 7, 8, 12, 4, 5, 5]"
            ]
          },
          "metadata": {},
          "execution_count": 10
        }
      ]
    },
    {
      "cell_type": "markdown",
      "source": [
        "Returns the number of elements with the specified value"
      ],
      "metadata": {
        "id": "3O-xG1zCqQ3a"
      }
    },
    {
      "cell_type": "code",
      "source": [
        "p.count(12)"
      ],
      "metadata": {
        "colab": {
          "base_uri": "https://localhost:8080/"
        },
        "id": "wyv5vzQZqUe9",
        "outputId": "1e855f71-5590-4c34-88c7-63e233f18392"
      },
      "execution_count": 11,
      "outputs": [
        {
          "output_type": "execute_result",
          "data": {
            "text/plain": [
              "3"
            ]
          },
          "metadata": {},
          "execution_count": 11
        }
      ]
    },
    {
      "cell_type": "markdown",
      "source": [
        "Add the elements of a list (or any iterable), to the end of the current list"
      ],
      "metadata": {
        "id": "ChFpnr5eqYkh"
      }
    },
    {
      "cell_type": "code",
      "source": [
        "p.extend(q)"
      ],
      "metadata": {
        "id": "0fU3Wk0yqcGn"
      },
      "execution_count": 12,
      "outputs": []
    },
    {
      "cell_type": "code",
      "source": [
        "p"
      ],
      "metadata": {
        "colab": {
          "base_uri": "https://localhost:8080/"
        },
        "id": "EK4tEnuUqfTi",
        "outputId": "74f19f81-f978-4bc9-b49c-00de81152c07"
      },
      "execution_count": 13,
      "outputs": [
        {
          "output_type": "execute_result",
          "data": {
            "text/plain": [
              "[12, 12, 34, 5, 6, 7, 8, 12, 4, 5, 5, 12, 12, 34, 5, 6, 7, 8, 12, 4, 5, 5]"
            ]
          },
          "metadata": {},
          "execution_count": 13
        }
      ]
    },
    {
      "cell_type": "markdown",
      "source": [
        "Returns the index of the first element with the specified value"
      ],
      "metadata": {
        "id": "O__zl9eEqhqx"
      }
    },
    {
      "cell_type": "code",
      "source": [
        "p.index(5)"
      ],
      "metadata": {
        "colab": {
          "base_uri": "https://localhost:8080/"
        },
        "id": "z9Gz6FxEqleZ",
        "outputId": "9765354e-340d-4707-dd90-63e90cef6a7b"
      },
      "execution_count": 14,
      "outputs": [
        {
          "output_type": "execute_result",
          "data": {
            "text/plain": [
              "3"
            ]
          },
          "metadata": {},
          "execution_count": 14
        }
      ]
    },
    {
      "cell_type": "markdown",
      "source": [
        "Adds an element at the specified position"
      ],
      "metadata": {
        "id": "XyLiybF3qsWY"
      }
    },
    {
      "cell_type": "code",
      "source": [
        "p.insert(0,56)"
      ],
      "metadata": {
        "id": "RnIW7CuCqtGv"
      },
      "execution_count": 15,
      "outputs": []
    },
    {
      "cell_type": "code",
      "source": [
        "p"
      ],
      "metadata": {
        "colab": {
          "base_uri": "https://localhost:8080/"
        },
        "id": "GaGQg-cjqprA",
        "outputId": "8cf2540f-31c6-4c5a-81a7-a53f5f90a00d"
      },
      "execution_count": 16,
      "outputs": [
        {
          "output_type": "execute_result",
          "data": {
            "text/plain": [
              "[56, 12, 12, 34, 5, 6, 7, 8, 12, 4, 5, 5, 12, 12, 34, 5, 6, 7, 8, 12, 4, 5, 5]"
            ]
          },
          "metadata": {},
          "execution_count": 16
        }
      ]
    },
    {
      "cell_type": "markdown",
      "source": [
        "Removes the element at the specified position"
      ],
      "metadata": {
        "id": "6R_l5_oeq1Xm"
      }
    },
    {
      "cell_type": "code",
      "source": [
        "p.pop(1)"
      ],
      "metadata": {
        "colab": {
          "base_uri": "https://localhost:8080/"
        },
        "id": "2Ij5u-fHq3j1",
        "outputId": "b9a77c76-f718-4288-abdd-7702e25ce039"
      },
      "execution_count": 17,
      "outputs": [
        {
          "output_type": "execute_result",
          "data": {
            "text/plain": [
              "12"
            ]
          },
          "metadata": {},
          "execution_count": 17
        }
      ]
    },
    {
      "cell_type": "code",
      "source": [
        "p"
      ],
      "metadata": {
        "colab": {
          "base_uri": "https://localhost:8080/"
        },
        "id": "-82hMMlFq8e_",
        "outputId": "c0f06719-2530-4cd1-cbd6-3d5598a66c84"
      },
      "execution_count": 18,
      "outputs": [
        {
          "output_type": "execute_result",
          "data": {
            "text/plain": [
              "[56, 12, 34, 5, 6, 7, 8, 12, 4, 5, 5, 12, 12, 34, 5, 6, 7, 8, 12, 4, 5, 5]"
            ]
          },
          "metadata": {},
          "execution_count": 18
        }
      ]
    },
    {
      "cell_type": "markdown",
      "source": [
        "Removes the item with the specified value"
      ],
      "metadata": {
        "id": "EUZzScXQq--K"
      }
    },
    {
      "cell_type": "code",
      "source": [
        "p.remove(12)"
      ],
      "metadata": {
        "id": "JuQzSsnurBrT"
      },
      "execution_count": 19,
      "outputs": []
    },
    {
      "cell_type": "code",
      "source": [
        "p"
      ],
      "metadata": {
        "colab": {
          "base_uri": "https://localhost:8080/"
        },
        "id": "_fljZK9QrEhg",
        "outputId": "14047c7c-5ca3-48f5-d009-9077ff7c741d"
      },
      "execution_count": 20,
      "outputs": [
        {
          "output_type": "execute_result",
          "data": {
            "text/plain": [
              "[56, 34, 5, 6, 7, 8, 12, 4, 5, 5, 12, 12, 34, 5, 6, 7, 8, 12, 4, 5, 5]"
            ]
          },
          "metadata": {},
          "execution_count": 20
        }
      ]
    },
    {
      "cell_type": "markdown",
      "source": [
        "Reverses the order of the list"
      ],
      "metadata": {
        "id": "j8tm6jpsrKXA"
      }
    },
    {
      "cell_type": "code",
      "source": [
        "p.reverse()"
      ],
      "metadata": {
        "id": "37T8gWAarMoN"
      },
      "execution_count": 21,
      "outputs": []
    },
    {
      "cell_type": "code",
      "source": [
        "p"
      ],
      "metadata": {
        "colab": {
          "base_uri": "https://localhost:8080/"
        },
        "id": "GcqLseaUrJc3",
        "outputId": "97a0ddd9-684e-42e4-9fdc-e14ef5f84213"
      },
      "execution_count": 22,
      "outputs": [
        {
          "output_type": "execute_result",
          "data": {
            "text/plain": [
              "[5, 5, 4, 12, 8, 7, 6, 5, 34, 12, 12, 5, 5, 4, 12, 8, 7, 6, 5, 34, 56]"
            ]
          },
          "metadata": {},
          "execution_count": 22
        }
      ]
    },
    {
      "cell_type": "markdown",
      "source": [
        "Sorts the list"
      ],
      "metadata": {
        "id": "bw5rYH6jrRBo"
      }
    },
    {
      "cell_type": "code",
      "source": [
        "p.sort()"
      ],
      "metadata": {
        "id": "-0xUYb09rS95"
      },
      "execution_count": 24,
      "outputs": []
    },
    {
      "cell_type": "code",
      "source": [
        "p"
      ],
      "metadata": {
        "colab": {
          "base_uri": "https://localhost:8080/"
        },
        "id": "K96OZ6hUrVYg",
        "outputId": "a9f3c55c-0f2b-4444-b959-c021e4f7c20f"
      },
      "execution_count": 25,
      "outputs": [
        {
          "output_type": "execute_result",
          "data": {
            "text/plain": [
              "[4, 4, 5, 5, 5, 5, 5, 5, 6, 6, 7, 7, 8, 8, 12, 12, 12, 12, 34, 34, 56]"
            ]
          },
          "metadata": {},
          "execution_count": 25
        }
      ]
    },
    {
      "cell_type": "markdown",
      "source": [
        "### **TUPLES**"
      ],
      "metadata": {
        "id": "3PxHwjhNrX12"
      }
    },
    {
      "cell_type": "markdown",
      "source": [
        "Returns the number of times a specified value occurs in a tuple"
      ],
      "metadata": {
        "id": "FjZ0liVTrgFU"
      }
    },
    {
      "cell_type": "code",
      "source": [
        "t=(12,13,14,12,1,1,5,6,7,7,8,45)"
      ],
      "metadata": {
        "id": "9O1scmLhrjH_"
      },
      "execution_count": 27,
      "outputs": []
    },
    {
      "cell_type": "code",
      "source": [
        "t.count(7)"
      ],
      "metadata": {
        "colab": {
          "base_uri": "https://localhost:8080/"
        },
        "id": "cO6UW2F3rpdy",
        "outputId": "42b00e5b-adbf-411c-d08d-f2f5521988ab"
      },
      "execution_count": 28,
      "outputs": [
        {
          "output_type": "execute_result",
          "data": {
            "text/plain": [
              "2"
            ]
          },
          "metadata": {},
          "execution_count": 28
        }
      ]
    },
    {
      "cell_type": "markdown",
      "source": [
        "Searches the tuple for a specified value and returns the position of where it was found"
      ],
      "metadata": {
        "id": "NHbrJ7q0ru8j"
      }
    },
    {
      "cell_type": "code",
      "source": [
        "t.index(14)"
      ],
      "metadata": {
        "colab": {
          "base_uri": "https://localhost:8080/"
        },
        "id": "6OEPi2Bsry7d",
        "outputId": "a339a350-3cc9-4f68-84c2-fe28c09c808e"
      },
      "execution_count": 30,
      "outputs": [
        {
          "output_type": "execute_result",
          "data": {
            "text/plain": [
              "2"
            ]
          },
          "metadata": {},
          "execution_count": 30
        }
      ]
    },
    {
      "cell_type": "markdown",
      "source": [
        "## **SETS**"
      ],
      "metadata": {
        "id": "pqIZ7erqr_H6"
      }
    },
    {
      "cell_type": "markdown",
      "source": [
        "Adds an element to the set"
      ],
      "metadata": {
        "id": "TF4ZBnjqsDub"
      }
    },
    {
      "cell_type": "code",
      "source": [
        "set1={12,13,14,1,16,67,89}"
      ],
      "metadata": {
        "id": "zUDSZp9gsG3V"
      },
      "execution_count": 31,
      "outputs": []
    },
    {
      "cell_type": "code",
      "source": [
        "set1.add(45)"
      ],
      "metadata": {
        "id": "koZz82b1r4bL"
      },
      "execution_count": 32,
      "outputs": []
    },
    {
      "cell_type": "code",
      "source": [
        "set1"
      ],
      "metadata": {
        "colab": {
          "base_uri": "https://localhost:8080/"
        },
        "id": "ZOzWykF3sRNn",
        "outputId": "9b78bfb4-e65e-4ba2-db26-f51977b60888"
      },
      "execution_count": 33,
      "outputs": [
        {
          "output_type": "execute_result",
          "data": {
            "text/plain": [
              "{1, 12, 13, 14, 16, 45, 67, 89}"
            ]
          },
          "metadata": {},
          "execution_count": 33
        }
      ]
    },
    {
      "cell_type": "markdown",
      "source": [
        "Removes all the elements from the set"
      ],
      "metadata": {
        "id": "2hXK46knsVOx"
      }
    },
    {
      "cell_type": "code",
      "source": [
        "set1.clear()"
      ],
      "metadata": {
        "id": "tIbFfq_PsXVL"
      },
      "execution_count": 34,
      "outputs": []
    },
    {
      "cell_type": "code",
      "source": [
        "set1"
      ],
      "metadata": {
        "colab": {
          "base_uri": "https://localhost:8080/"
        },
        "id": "xhqOHL-1sZOh",
        "outputId": "086700d7-e8ab-40b7-f2de-43d1ec2f5ffb"
      },
      "execution_count": 35,
      "outputs": [
        {
          "output_type": "execute_result",
          "data": {
            "text/plain": [
              "set()"
            ]
          },
          "metadata": {},
          "execution_count": 35
        }
      ]
    },
    {
      "cell_type": "markdown",
      "source": [
        "Returns a copy of the set"
      ],
      "metadata": {
        "id": "ZNenTE0Bse2Q"
      }
    },
    {
      "cell_type": "code",
      "source": [
        "set2={3,4,5,6}"
      ],
      "metadata": {
        "id": "tXgbDxKnsfjH"
      },
      "execution_count": 36,
      "outputs": []
    },
    {
      "cell_type": "code",
      "source": [
        "set3=set2.copy()"
      ],
      "metadata": {
        "id": "SmEDAvxysiwa"
      },
      "execution_count": 37,
      "outputs": []
    },
    {
      "cell_type": "code",
      "source": [
        "set3"
      ],
      "metadata": {
        "colab": {
          "base_uri": "https://localhost:8080/"
        },
        "id": "36AmrkjrslQ5",
        "outputId": "87227b2f-06e9-4b7f-9ce5-9319b458c616"
      },
      "execution_count": 38,
      "outputs": [
        {
          "output_type": "execute_result",
          "data": {
            "text/plain": [
              "{3, 4, 5, 6}"
            ]
          },
          "metadata": {},
          "execution_count": 38
        }
      ]
    },
    {
      "cell_type": "markdown",
      "source": [
        "Returns a set containing the difference between two or more sets"
      ],
      "metadata": {
        "id": "YkRnd4phsqyq"
      }
    },
    {
      "cell_type": "code",
      "source": [
        "set4={1,4,5,6}"
      ],
      "metadata": {
        "id": "ONepGqVXsr2w"
      },
      "execution_count": 39,
      "outputs": []
    },
    {
      "cell_type": "code",
      "source": [
        "set5=set3.difference(set4)"
      ],
      "metadata": {
        "id": "ad_jvwcksxTf"
      },
      "execution_count": 40,
      "outputs": []
    },
    {
      "cell_type": "code",
      "source": [
        "set5"
      ],
      "metadata": {
        "colab": {
          "base_uri": "https://localhost:8080/"
        },
        "id": "BJrY-_qgs6JT",
        "outputId": "4a9346e2-d136-41dc-f28c-6c7111d617f5"
      },
      "execution_count": 41,
      "outputs": [
        {
          "output_type": "execute_result",
          "data": {
            "text/plain": [
              "{3}"
            ]
          },
          "metadata": {},
          "execution_count": 41
        }
      ]
    },
    {
      "cell_type": "markdown",
      "source": [
        "Removes the items in this set that are also included in another, specified set"
      ],
      "metadata": {
        "id": "SVr_CNmrtFFr"
      }
    },
    {
      "cell_type": "code",
      "source": [
        "x = {\"apple\", \"banana\", \"cherry\"}\n",
        "y = {\"google\", \"microsoft\", \"apple\"}\n",
        "\n",
        "x.difference_update(y)"
      ],
      "metadata": {
        "id": "oBlChs_VtGJ-"
      },
      "execution_count": 42,
      "outputs": []
    },
    {
      "cell_type": "code",
      "source": [
        "x"
      ],
      "metadata": {
        "colab": {
          "base_uri": "https://localhost:8080/"
        },
        "id": "_q4D4OW6tJmd",
        "outputId": "638d15e7-b3b3-4693-8158-d0b2ac7c36c2"
      },
      "execution_count": 43,
      "outputs": [
        {
          "output_type": "execute_result",
          "data": {
            "text/plain": [
              "{'banana', 'cherry'}"
            ]
          },
          "metadata": {},
          "execution_count": 43
        }
      ]
    },
    {
      "cell_type": "markdown",
      "source": [
        "Remove the specified item"
      ],
      "metadata": {
        "id": "n_tdVCVGtOG7"
      }
    },
    {
      "cell_type": "code",
      "source": [
        "x.discard(\"apple\")"
      ],
      "metadata": {
        "id": "DoxuGVuvtR2q"
      },
      "execution_count": 44,
      "outputs": []
    },
    {
      "cell_type": "code",
      "source": [
        "x"
      ],
      "metadata": {
        "colab": {
          "base_uri": "https://localhost:8080/"
        },
        "id": "cN8BBkh5tWRh",
        "outputId": "7e797b61-a107-4bba-90b9-d27298795fc8"
      },
      "execution_count": 45,
      "outputs": [
        {
          "output_type": "execute_result",
          "data": {
            "text/plain": [
              "{'banana', 'cherry'}"
            ]
          },
          "metadata": {},
          "execution_count": 45
        }
      ]
    },
    {
      "cell_type": "markdown",
      "source": [
        "Returns a set, that is the intersection of two or more sets"
      ],
      "metadata": {
        "id": "Rwr6BXcYtYsU"
      }
    },
    {
      "cell_type": "code",
      "source": [
        "x = {\"apple\", \"banana\", \"cherry\"}\n",
        "y = {\"google\", \"microsoft\", \"apple\"}\n",
        "\n",
        "z = x.intersection(y)"
      ],
      "metadata": {
        "id": "ge-DJvkgtceg"
      },
      "execution_count": 46,
      "outputs": []
    },
    {
      "cell_type": "code",
      "source": [
        "z"
      ],
      "metadata": {
        "colab": {
          "base_uri": "https://localhost:8080/"
        },
        "id": "P4kZLZVttXZF",
        "outputId": "febf2cc8-5323-4d88-e9de-9b420d8733e4"
      },
      "execution_count": 47,
      "outputs": [
        {
          "output_type": "execute_result",
          "data": {
            "text/plain": [
              "{'apple'}"
            ]
          },
          "metadata": {},
          "execution_count": 47
        }
      ]
    },
    {
      "cell_type": "markdown",
      "source": [
        "Removes the items in this set that are not present in other, specified set"
      ],
      "metadata": {
        "id": "TA5DkPgutm6C"
      }
    },
    {
      "cell_type": "code",
      "source": [
        "x.intersection_update(y)\n"
      ],
      "metadata": {
        "id": "Qhq8n7tJtpAQ"
      },
      "execution_count": 48,
      "outputs": []
    },
    {
      "cell_type": "code",
      "source": [
        "x"
      ],
      "metadata": {
        "colab": {
          "base_uri": "https://localhost:8080/"
        },
        "id": "oHFp2SK8tzSA",
        "outputId": "a35ccfde-b2d3-48e2-8808-be3aea0cbbc6"
      },
      "execution_count": 49,
      "outputs": [
        {
          "output_type": "execute_result",
          "data": {
            "text/plain": [
              "{'apple'}"
            ]
          },
          "metadata": {},
          "execution_count": 49
        }
      ]
    },
    {
      "cell_type": "markdown",
      "source": [
        "Returns whether two sets have a intersection or not"
      ],
      "metadata": {
        "id": "uFuD-qqqt-0L"
      }
    },
    {
      "cell_type": "code",
      "source": [
        "x = {\"khyati\", \"mridul\", \"cherry\"}\n",
        "y = {\"google\", \"microsoft\", \"facebook\"}\n",
        "\n",
        "z = x.isdisjoint(y)"
      ],
      "metadata": {
        "id": "3XsSD5Pot_b5"
      },
      "execution_count": 50,
      "outputs": []
    },
    {
      "cell_type": "code",
      "source": [
        "z"
      ],
      "metadata": {
        "colab": {
          "base_uri": "https://localhost:8080/"
        },
        "id": "cVhTZSogt0dF",
        "outputId": "4de82047-2de2-48b5-9239-7b4dcc472539"
      },
      "execution_count": 51,
      "outputs": [
        {
          "output_type": "execute_result",
          "data": {
            "text/plain": [
              "True"
            ]
          },
          "metadata": {},
          "execution_count": 51
        }
      ]
    },
    {
      "cell_type": "markdown",
      "source": [
        "Returns whether another set contains this set or not"
      ],
      "metadata": {
        "id": "v2S2bEVauWbK"
      }
    },
    {
      "cell_type": "code",
      "source": [
        "d={'apple','ball','cat','dog','elepehant','frog','grass'}\n",
        "e={'apple','elephant'}\n",
        "z = d.issubset(e)\n"
      ],
      "metadata": {
        "id": "7vihDQU8uXEn"
      },
      "execution_count": 55,
      "outputs": []
    },
    {
      "cell_type": "code",
      "source": [
        "z"
      ],
      "metadata": {
        "colab": {
          "base_uri": "https://localhost:8080/"
        },
        "id": "SdsopZ6_ujEQ",
        "outputId": "ff8a8e7a-821b-4ca5-fc71-d2fa14d9c2bd"
      },
      "execution_count": 56,
      "outputs": [
        {
          "output_type": "execute_result",
          "data": {
            "text/plain": [
              "False"
            ]
          },
          "metadata": {},
          "execution_count": 56
        }
      ]
    },
    {
      "cell_type": "markdown",
      "source": [
        "Returns whether this set contains another set or not"
      ],
      "metadata": {
        "id": "9U1mf7yTu6Ou"
      }
    },
    {
      "cell_type": "code",
      "source": [
        "z = e.issuperset(d)"
      ],
      "metadata": {
        "id": "NT5Bp2W5u_le"
      },
      "execution_count": 61,
      "outputs": []
    },
    {
      "cell_type": "code",
      "source": [
        "z"
      ],
      "metadata": {
        "colab": {
          "base_uri": "https://localhost:8080/"
        },
        "id": "kEpgBBWtvLEt",
        "outputId": "0e0b50da-4498-4f35-ad05-25eff206c1f7"
      },
      "execution_count": 62,
      "outputs": [
        {
          "output_type": "execute_result",
          "data": {
            "text/plain": [
              "False"
            ]
          },
          "metadata": {},
          "execution_count": 62
        }
      ]
    },
    {
      "cell_type": "markdown",
      "source": [
        "Removes an element from the set"
      ],
      "metadata": {
        "id": "Td3wze47vban"
      }
    },
    {
      "cell_type": "code",
      "source": [
        "d.pop()"
      ],
      "metadata": {
        "colab": {
          "base_uri": "https://localhost:8080/",
          "height": 35
        },
        "id": "Ma3vQEJ7vcqL",
        "outputId": "d6d61621-a0b3-4a3a-aa32-2ef4194e5cb3"
      },
      "execution_count": 64,
      "outputs": [
        {
          "output_type": "execute_result",
          "data": {
            "text/plain": [
              "'grass'"
            ],
            "application/vnd.google.colaboratory.intrinsic+json": {
              "type": "string"
            }
          },
          "metadata": {},
          "execution_count": 64
        }
      ]
    },
    {
      "cell_type": "code",
      "source": [
        "d"
      ],
      "metadata": {
        "colab": {
          "base_uri": "https://localhost:8080/"
        },
        "id": "ypTXiDGsvu6v",
        "outputId": "ec5470e9-2ac5-41a1-fe95-8d99f69b98df"
      },
      "execution_count": 65,
      "outputs": [
        {
          "output_type": "execute_result",
          "data": {
            "text/plain": [
              "{'apple', 'ball', 'cat', 'dog', 'elepehant', 'frog'}"
            ]
          },
          "metadata": {},
          "execution_count": 65
        }
      ]
    },
    {
      "cell_type": "markdown",
      "source": [
        "Removes the specified element"
      ],
      "metadata": {
        "id": "6b2q8W31vyuz"
      }
    },
    {
      "cell_type": "code",
      "source": [
        "d.remove(\"apple\")"
      ],
      "metadata": {
        "id": "vHROJh3TvgKw"
      },
      "execution_count": 66,
      "outputs": []
    },
    {
      "cell_type": "code",
      "source": [
        "d"
      ],
      "metadata": {
        "colab": {
          "base_uri": "https://localhost:8080/"
        },
        "id": "erJv01ZKv89M",
        "outputId": "b332f68a-4921-4be4-e9d4-efc4c3e5d317"
      },
      "execution_count": 67,
      "outputs": [
        {
          "output_type": "execute_result",
          "data": {
            "text/plain": [
              "{'ball', 'cat', 'dog', 'elepehant', 'frog'}"
            ]
          },
          "metadata": {},
          "execution_count": 67
        }
      ]
    },
    {
      "cell_type": "markdown",
      "source": [
        "Return a set that contains all items from both sets, except items that are present in both sets :Symmetric difference"
      ],
      "metadata": {
        "id": "xArDiH4tv_YX"
      }
    },
    {
      "cell_type": "code",
      "source": [
        "f=d.symmetric_difference(e)"
      ],
      "metadata": {
        "id": "vcfwP8bRwI9M"
      },
      "execution_count": 70,
      "outputs": []
    },
    {
      "cell_type": "code",
      "source": [
        "f"
      ],
      "metadata": {
        "colab": {
          "base_uri": "https://localhost:8080/"
        },
        "id": "FsGv4hIKwYaC",
        "outputId": "695d0fef-2cc8-4d8a-d7fb-6595dfbe68bf"
      },
      "execution_count": 71,
      "outputs": [
        {
          "output_type": "execute_result",
          "data": {
            "text/plain": [
              "{'apple', 'ball', 'cat', 'dog', 'elepehant', 'elephant', 'frog'}"
            ]
          },
          "metadata": {},
          "execution_count": 71
        }
      ]
    },
    {
      "cell_type": "markdown",
      "source": [
        "inserts the symmetric differences from this set and another"
      ],
      "metadata": {
        "id": "9wGHHVSHwgYD"
      }
    },
    {
      "cell_type": "code",
      "source": [
        "x = {\"apple\", \"banana\", \"cherry\"}\n",
        "y = {\"google\", \"microsoft\", \"apple\"}\n",
        "\n",
        "x.symmetric_difference_update(y) \n",
        "\n",
        "print(x)"
      ],
      "metadata": {
        "colab": {
          "base_uri": "https://localhost:8080/"
        },
        "id": "TOmU0KOmwhfb",
        "outputId": "006fd2c0-8f53-4eb7-c455-e4c652111337"
      },
      "execution_count": 77,
      "outputs": [
        {
          "output_type": "stream",
          "name": "stdout",
          "text": [
            "{'banana', 'cherry', 'microsoft', 'google'}\n"
          ]
        }
      ]
    },
    {
      "cell_type": "markdown",
      "source": [
        "Return a set containing the union of sets"
      ],
      "metadata": {
        "id": "bQjFhcs1w6KA"
      }
    },
    {
      "cell_type": "code",
      "source": [
        "u=x.union(y)"
      ],
      "metadata": {
        "id": "9dpOk90Uw-in"
      },
      "execution_count": 78,
      "outputs": []
    },
    {
      "cell_type": "code",
      "source": [
        "u"
      ],
      "metadata": {
        "colab": {
          "base_uri": "https://localhost:8080/"
        },
        "id": "nbkjH10kxFyH",
        "outputId": "e39589e7-e9be-4d77-dc85-83cce493eb32"
      },
      "execution_count": 79,
      "outputs": [
        {
          "output_type": "execute_result",
          "data": {
            "text/plain": [
              "{'apple', 'banana', 'cherry', 'google', 'microsoft'}"
            ]
          },
          "metadata": {},
          "execution_count": 79
        }
      ]
    },
    {
      "cell_type": "markdown",
      "source": [
        "Update the set with another set, or any other iterable"
      ],
      "metadata": {
        "id": "PdKjgwfpxi5h"
      }
    },
    {
      "cell_type": "code",
      "source": [
        "d.update(e)"
      ],
      "metadata": {
        "id": "ujiPvy7Cxjx3"
      },
      "execution_count": 80,
      "outputs": []
    },
    {
      "cell_type": "code",
      "source": [
        "d"
      ],
      "metadata": {
        "colab": {
          "base_uri": "https://localhost:8080/"
        },
        "id": "uyle1c7vxG2a",
        "outputId": "0e6f3a4e-522d-48d9-883d-330c1e126cea"
      },
      "execution_count": 81,
      "outputs": [
        {
          "output_type": "execute_result",
          "data": {
            "text/plain": [
              "{'apple', 'ball', 'cat', 'dog', 'elepehant', 'elephant', 'frog'}"
            ]
          },
          "metadata": {},
          "execution_count": 81
        }
      ]
    },
    {
      "cell_type": "markdown",
      "source": [
        "# **DICTIONARY**"
      ],
      "metadata": {
        "id": "blht-IYNxt1Z"
      }
    },
    {
      "cell_type": "code",
      "source": [
        "dict={1:\"khyati\",2:\"mridul\",3:\"prince\",4:\"hency\",5:\"riya\",6:\"nityaa\"}"
      ],
      "metadata": {
        "id": "l9UeeizswmYM"
      },
      "execution_count": 82,
      "outputs": []
    },
    {
      "cell_type": "code",
      "source": [
        "dict"
      ],
      "metadata": {
        "colab": {
          "base_uri": "https://localhost:8080/"
        },
        "id": "JdLNU7TiwpF8",
        "outputId": "4f600883-4982-4c57-d65d-1e82a61c3984"
      },
      "execution_count": 83,
      "outputs": [
        {
          "output_type": "execute_result",
          "data": {
            "text/plain": [
              "{1: 'khyati', 2: 'mridul', 3: 'prince', 4: 'hency', 5: 'riya', 6: 'nityaa'}"
            ]
          },
          "metadata": {},
          "execution_count": 83
        }
      ]
    },
    {
      "cell_type": "markdown",
      "source": [
        "Removes all the elements from the dictionary"
      ],
      "metadata": {
        "id": "gS5J6fqTyzas"
      }
    },
    {
      "cell_type": "code",
      "source": [
        "dict.clear()"
      ],
      "metadata": {
        "id": "uQqIn6Xry0bP"
      },
      "execution_count": 84,
      "outputs": []
    },
    {
      "cell_type": "code",
      "source": [
        "dict"
      ],
      "metadata": {
        "colab": {
          "base_uri": "https://localhost:8080/"
        },
        "id": "Ml-9O7tZy3s3",
        "outputId": "92a0fedb-2d13-416d-dbbf-8ecc0b843355"
      },
      "execution_count": 85,
      "outputs": [
        {
          "output_type": "execute_result",
          "data": {
            "text/plain": [
              "{}"
            ]
          },
          "metadata": {},
          "execution_count": 85
        }
      ]
    },
    {
      "cell_type": "code",
      "source": [
        "dict2={1:\"khyati\",2:\"mridul\",3:\"prince\",4:\"hency\",5:\"riya\",6:\"nityaa\"}"
      ],
      "metadata": {
        "id": "MaYyVPO9y5G6"
      },
      "execution_count": 89,
      "outputs": []
    },
    {
      "cell_type": "markdown",
      "source": [
        "Returns a copy of the dictionary"
      ],
      "metadata": {
        "id": "_OCogtW6zBaH"
      }
    },
    {
      "cell_type": "code",
      "source": [
        "dict3=dict2.copy()"
      ],
      "metadata": {
        "id": "W7FcOT7PzEqP"
      },
      "execution_count": 90,
      "outputs": []
    },
    {
      "cell_type": "code",
      "source": [
        "dict3"
      ],
      "metadata": {
        "colab": {
          "base_uri": "https://localhost:8080/"
        },
        "id": "tqLiRi-_zIm2",
        "outputId": "3d312180-d97a-46b6-a299-b4aa12770a5e"
      },
      "execution_count": 91,
      "outputs": [
        {
          "output_type": "execute_result",
          "data": {
            "text/plain": [
              "{1: 'khyati', 2: 'mridul', 3: 'prince', 4: 'hency', 5: 'riya', 6: 'nityaa'}"
            ]
          },
          "metadata": {},
          "execution_count": 91
        }
      ]
    },
    {
      "cell_type": "markdown",
      "source": [
        "Returns a dictionary with the specified keys and value"
      ],
      "metadata": {
        "id": "-e3hFjMhzSzH"
      }
    },
    {
      "cell_type": "code",
      "source": [
        "x=(\"one\",\"two\",\"three\")\n",
        "y=(\"numbers\")\n",
        "thisdict = dict.fromkeys(x, y)\n",
        "thisdict"
      ],
      "metadata": {
        "colab": {
          "base_uri": "https://localhost:8080/"
        },
        "id": "Drf7AL9izmcB",
        "outputId": "38a23651-bc49-4ef7-df7f-b56460b0f3c0"
      },
      "execution_count": 93,
      "outputs": [
        {
          "output_type": "execute_result",
          "data": {
            "text/plain": [
              "{'one': 'numbers', 'two': 'numbers', 'three': 'numbers'}"
            ]
          },
          "metadata": {},
          "execution_count": 93
        }
      ]
    },
    {
      "cell_type": "markdown",
      "source": [
        "Returns the value of the specified key"
      ],
      "metadata": {
        "id": "1j-qCkkSz4f6"
      }
    },
    {
      "cell_type": "code",
      "source": [
        "d=dict3.get(1)\n",
        "d"
      ],
      "metadata": {
        "colab": {
          "base_uri": "https://localhost:8080/",
          "height": 35
        },
        "id": "WnyoHTvTz6gC",
        "outputId": "98019af7-f9e2-4242-a7ea-06f15cb1e589"
      },
      "execution_count": 96,
      "outputs": [
        {
          "output_type": "execute_result",
          "data": {
            "text/plain": [
              "'khyati'"
            ],
            "application/vnd.google.colaboratory.intrinsic+json": {
              "type": "string"
            }
          },
          "metadata": {},
          "execution_count": 96
        }
      ]
    },
    {
      "cell_type": "markdown",
      "source": [
        "Returns a list containing a tuple for each key value pair"
      ],
      "metadata": {
        "id": "2JI9bEJN0OxN"
      }
    },
    {
      "cell_type": "code",
      "source": [
        "dict3.items()"
      ],
      "metadata": {
        "colab": {
          "base_uri": "https://localhost:8080/"
        },
        "id": "QlpYSxHv0PWK",
        "outputId": "40754553-8558-4cc8-c9ad-e6867efbe1a6"
      },
      "execution_count": 97,
      "outputs": [
        {
          "output_type": "execute_result",
          "data": {
            "text/plain": [
              "dict_items([(1, 'khyati'), (2, 'mridul'), (3, 'prince'), (4, 'hency'), (5, 'riya'), (6, 'nityaa')])"
            ]
          },
          "metadata": {},
          "execution_count": 97
        }
      ]
    },
    {
      "cell_type": "markdown",
      "source": [
        "Returns a list containing the dictionary's keys"
      ],
      "metadata": {
        "id": "0PZtmXVO0TvM"
      }
    },
    {
      "cell_type": "code",
      "source": [
        "dict3.keys()"
      ],
      "metadata": {
        "colab": {
          "base_uri": "https://localhost:8080/"
        },
        "id": "R5zNwrLv0WS5",
        "outputId": "ee7cde2c-c246-48bb-d3e6-c99ec23c5d39"
      },
      "execution_count": 98,
      "outputs": [
        {
          "output_type": "execute_result",
          "data": {
            "text/plain": [
              "dict_keys([1, 2, 3, 4, 5, 6])"
            ]
          },
          "metadata": {},
          "execution_count": 98
        }
      ]
    },
    {
      "cell_type": "markdown",
      "source": [
        "Removes the element with the specified key"
      ],
      "metadata": {
        "id": "DDcU_XdX0e19"
      }
    },
    {
      "cell_type": "code",
      "source": [
        "dict3.pop(2)"
      ],
      "metadata": {
        "colab": {
          "base_uri": "https://localhost:8080/",
          "height": 35
        },
        "id": "GUPfYr2e0fgK",
        "outputId": "0b6fc086-a40e-4b62-935b-28db2da752da"
      },
      "execution_count": 99,
      "outputs": [
        {
          "output_type": "execute_result",
          "data": {
            "text/plain": [
              "'mridul'"
            ],
            "application/vnd.google.colaboratory.intrinsic+json": {
              "type": "string"
            }
          },
          "metadata": {},
          "execution_count": 99
        }
      ]
    },
    {
      "cell_type": "code",
      "source": [
        "dict3"
      ],
      "metadata": {
        "colab": {
          "base_uri": "https://localhost:8080/"
        },
        "id": "V7JTuLV50jqK",
        "outputId": "df698c0a-de58-49d2-adea-3a64f42dc8d0"
      },
      "execution_count": 100,
      "outputs": [
        {
          "output_type": "execute_result",
          "data": {
            "text/plain": [
              "{1: 'khyati', 3: 'prince', 4: 'hency', 5: 'riya', 6: 'nityaa'}"
            ]
          },
          "metadata": {},
          "execution_count": 100
        }
      ]
    },
    {
      "cell_type": "markdown",
      "source": [
        "Removes the last inserted key-value pair"
      ],
      "metadata": {
        "id": "Q6UPNSNd0pnq"
      }
    },
    {
      "cell_type": "code",
      "source": [
        "dict3.popitem()\n",
        "dict3"
      ],
      "metadata": {
        "colab": {
          "base_uri": "https://localhost:8080/"
        },
        "id": "5G_N1NVR0qQ8",
        "outputId": "51b42cec-ce41-4e57-a174-a6e3dad60a5f"
      },
      "execution_count": 101,
      "outputs": [
        {
          "output_type": "execute_result",
          "data": {
            "text/plain": [
              "{1: 'khyati', 3: 'prince', 4: 'hency', 5: 'riya'}"
            ]
          },
          "metadata": {},
          "execution_count": 101
        }
      ]
    },
    {
      "cell_type": "markdown",
      "source": [
        "Returns the value of the specified key. If the key does not exist: insert the key, with the specified value"
      ],
      "metadata": {
        "id": "Wr8RVE_F0xYl"
      }
    },
    {
      "cell_type": "code",
      "source": [
        "x = dict3.setdefault(3, \"Bronco\")\n",
        "x"
      ],
      "metadata": {
        "colab": {
          "base_uri": "https://localhost:8080/",
          "height": 35
        },
        "id": "O8AEao3B03k3",
        "outputId": "aaca896f-c39b-4839-9a8c-04f2838f98c2"
      },
      "execution_count": 102,
      "outputs": [
        {
          "output_type": "execute_result",
          "data": {
            "text/plain": [
              "'prince'"
            ],
            "application/vnd.google.colaboratory.intrinsic+json": {
              "type": "string"
            }
          },
          "metadata": {},
          "execution_count": 102
        }
      ]
    },
    {
      "cell_type": "markdown",
      "source": [
        "Updates the dictionary with the specified key-value pairs"
      ],
      "metadata": {
        "id": "nND7MdZy1GMq"
      }
    },
    {
      "cell_type": "code",
      "source": [
        "dict3.update({\"color\": \"White\"})\n",
        "dict3"
      ],
      "metadata": {
        "colab": {
          "base_uri": "https://localhost:8080/"
        },
        "id": "S65ETq741KWU",
        "outputId": "988aa44d-c55a-4f79-8485-29fffac8585b"
      },
      "execution_count": 103,
      "outputs": [
        {
          "output_type": "execute_result",
          "data": {
            "text/plain": [
              "{1: 'khyati', 3: 'prince', 4: 'hency', 5: 'riya', 'color': 'White'}"
            ]
          },
          "metadata": {},
          "execution_count": 103
        }
      ]
    },
    {
      "cell_type": "markdown",
      "source": [
        "Returns a list of all the values in the dictionary"
      ],
      "metadata": {
        "id": "BniyOd3o1UkN"
      }
    },
    {
      "cell_type": "code",
      "source": [
        "dict3.values()"
      ],
      "metadata": {
        "colab": {
          "base_uri": "https://localhost:8080/"
        },
        "id": "7PioydEN1Xl8",
        "outputId": "a4fcd01f-28f9-4c6c-9a7b-6941f3a4f023"
      },
      "execution_count": 104,
      "outputs": [
        {
          "output_type": "execute_result",
          "data": {
            "text/plain": [
              "dict_values(['khyati', 'prince', 'hency', 'riya', 'White'])"
            ]
          },
          "metadata": {},
          "execution_count": 104
        }
      ]
    },
    {
      "cell_type": "code",
      "source": [
        ""
      ],
      "metadata": {
        "id": "_MHmrb631ZdN"
      },
      "execution_count": null,
      "outputs": []
    },
    {
      "cell_type": "code",
      "source": [
        ""
      ],
      "metadata": {
        "id": "XhQwu4rl1Rdg"
      },
      "execution_count": null,
      "outputs": []
    },
    {
      "cell_type": "code",
      "source": [
        ""
      ],
      "metadata": {
        "id": "TbHle1dy0_b7"
      },
      "execution_count": null,
      "outputs": []
    },
    {
      "cell_type": "code",
      "source": [
        ""
      ],
      "metadata": {
        "id": "L2zBAPpL0vkB"
      },
      "execution_count": null,
      "outputs": []
    },
    {
      "cell_type": "code",
      "source": [
        ""
      ],
      "metadata": {
        "id": "h9r8AgW70lTg"
      },
      "execution_count": null,
      "outputs": []
    },
    {
      "cell_type": "code",
      "source": [
        ""
      ],
      "metadata": {
        "id": "-XpoMLL50X4d"
      },
      "execution_count": null,
      "outputs": []
    },
    {
      "cell_type": "markdown",
      "source": [
        ""
      ],
      "metadata": {
        "id": "CD3OKAdA0avY"
      }
    },
    {
      "cell_type": "code",
      "source": [
        ""
      ],
      "metadata": {
        "id": "UuDA-EwG0RNT"
      },
      "execution_count": null,
      "outputs": []
    },
    {
      "cell_type": "code",
      "source": [
        ""
      ],
      "metadata": {
        "id": "Zg9Qv5DG0I_q"
      },
      "execution_count": null,
      "outputs": []
    },
    {
      "cell_type": "code",
      "source": [
        ""
      ],
      "metadata": {
        "id": "J6-T0N8I0EG0"
      },
      "execution_count": null,
      "outputs": []
    },
    {
      "cell_type": "code",
      "source": [
        ""
      ],
      "metadata": {
        "id": "Jvssw3sgzy1T"
      },
      "execution_count": null,
      "outputs": []
    },
    {
      "cell_type": "code",
      "source": [
        ""
      ],
      "metadata": {
        "id": "muyK7lF2zJqt"
      },
      "execution_count": null,
      "outputs": []
    },
    {
      "cell_type": "code",
      "source": [
        ""
      ],
      "metadata": {
        "id": "yZpi_Fmoy9kc"
      },
      "execution_count": null,
      "outputs": []
    },
    {
      "cell_type": "code",
      "source": [
        ""
      ],
      "metadata": {
        "id": "ySmfkNKbyurH"
      },
      "execution_count": null,
      "outputs": []
    },
    {
      "cell_type": "code",
      "source": [
        ""
      ],
      "metadata": {
        "id": "qIgmv1yPwnWy"
      },
      "execution_count": null,
      "outputs": []
    },
    {
      "cell_type": "code",
      "source": [
        ""
      ],
      "metadata": {
        "id": "iXlgnmYBwZIa"
      },
      "execution_count": null,
      "outputs": []
    },
    {
      "cell_type": "code",
      "source": [
        ""
      ],
      "metadata": {
        "id": "lgQlpRWmv9wJ"
      },
      "execution_count": null,
      "outputs": []
    },
    {
      "cell_type": "code",
      "source": [
        ""
      ],
      "metadata": {
        "id": "rTHTmw98vMUd"
      },
      "execution_count": null,
      "outputs": []
    },
    {
      "cell_type": "code",
      "source": [
        ""
      ],
      "metadata": {
        "id": "u13c8DIguH_r"
      },
      "execution_count": null,
      "outputs": []
    },
    {
      "cell_type": "code",
      "source": [
        ""
      ],
      "metadata": {
        "id": "t2WUwZ_otiF0"
      },
      "execution_count": null,
      "outputs": []
    },
    {
      "cell_type": "code",
      "source": [
        ""
      ],
      "metadata": {
        "id": "IZgJbW24tLnb"
      },
      "execution_count": null,
      "outputs": []
    },
    {
      "cell_type": "code",
      "source": [
        ""
      ],
      "metadata": {
        "id": "4-57UgkCs7QT"
      },
      "execution_count": null,
      "outputs": []
    },
    {
      "cell_type": "code",
      "source": [
        ""
      ],
      "metadata": {
        "id": "gfg0BDeFsmxy"
      },
      "execution_count": null,
      "outputs": []
    },
    {
      "cell_type": "code",
      "source": [
        ""
      ],
      "metadata": {
        "id": "fAIGoUoTsaeu"
      },
      "execution_count": null,
      "outputs": []
    },
    {
      "cell_type": "code",
      "source": [
        ""
      ],
      "metadata": {
        "id": "j7Io9NDksSzk"
      },
      "execution_count": null,
      "outputs": []
    },
    {
      "cell_type": "code",
      "source": [
        ""
      ],
      "metadata": {
        "id": "-33R-pX8r1Zd"
      },
      "execution_count": null,
      "outputs": []
    },
    {
      "cell_type": "code",
      "source": [
        ""
      ],
      "metadata": {
        "id": "1Q6xXW3FrsbV"
      },
      "execution_count": null,
      "outputs": []
    },
    {
      "cell_type": "markdown",
      "source": [
        ""
      ],
      "metadata": {
        "id": "kfc4-ynro3gy"
      }
    },
    {
      "cell_type": "markdown",
      "source": [
        ""
      ],
      "metadata": {
        "id": "JsvRQDTnomp7"
      }
    }
  ]
}