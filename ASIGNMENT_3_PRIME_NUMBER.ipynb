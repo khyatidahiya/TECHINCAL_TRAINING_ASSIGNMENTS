{
  "nbformat": 4,
  "nbformat_minor": 0,
  "metadata": {
    "colab": {
      "name": "ASIGNMENT 3 PRIME NUMBER.ipynb",
      "provenance": [],
      "authorship_tag": "ABX9TyMcBcluTv3eo22jarq0gMyB",
      "include_colab_link": true
    },
    "kernelspec": {
      "name": "python3",
      "display_name": "Python 3"
    },
    "language_info": {
      "name": "python"
    }
  },
  "cells": [
    {
      "cell_type": "markdown",
      "metadata": {
        "id": "view-in-github",
        "colab_type": "text"
      },
      "source": [
        "<a href=\"https://colab.research.google.com/github/khyatidahiya/TECHINCAL_TRAINING_ASSIGNMENTS/blob/main/ASIGNMENT_3_PRIME_NUMBER.ipynb\" target=\"_parent\"><img src=\"https://colab.research.google.com/assets/colab-badge.svg\" alt=\"Open In Colab\"/></a>"
      ]
    },
    {
      "cell_type": "code",
      "execution_count": 4,
      "metadata": {
        "id": "PnyEH4khzqr0"
      },
      "outputs": [],
      "source": [
        "def is_prime(n):\n",
        "  for i in range(2,n):\n",
        "    if (n%i) == 0:\n",
        "      return (\"it is not prime\")\n",
        "  return (\"it is prime\")"
      ]
    },
    {
      "cell_type": "code",
      "source": [
        "f=is_prime(n=int(input(\"enter the number =\")))\n",
        "f\n"
      ],
      "metadata": {
        "colab": {
          "base_uri": "https://localhost:8080/",
          "height": 53
        },
        "id": "tAcEO0as1CfL",
        "outputId": "c8c19308-0faa-40ae-9f72-5729bb5cec8d"
      },
      "execution_count": 5,
      "outputs": [
        {
          "name": "stdout",
          "output_type": "stream",
          "text": [
            "enter the number =3\n"
          ]
        },
        {
          "output_type": "execute_result",
          "data": {
            "text/plain": [
              "'it is prime'"
            ],
            "application/vnd.google.colaboratory.intrinsic+json": {
              "type": "string"
            }
          },
          "metadata": {},
          "execution_count": 5
        }
      ]
    },
    {
      "cell_type": "code",
      "source": [
        ""
      ],
      "metadata": {
        "id": "C7YtEmT91XWk"
      },
      "execution_count": null,
      "outputs": []
    }
  ]
}