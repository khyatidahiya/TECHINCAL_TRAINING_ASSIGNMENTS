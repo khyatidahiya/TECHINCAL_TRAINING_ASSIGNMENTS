{
  "nbformat": 4,
  "nbformat_minor": 0,
  "metadata": {
    "colab": {
      "name": "datastructures.ipynb",
      "provenance": [],
      "include_colab_link": true
    },
    "kernelspec": {
      "name": "python3",
      "display_name": "Python 3"
    },
    "language_info": {
      "name": "python"
    }
  },
  "cells": [
    {
      "cell_type": "markdown",
      "metadata": {
        "id": "view-in-github",
        "colab_type": "text"
      },
      "source": [
        "<a href=\"https://colab.research.google.com/github/khyatidahiya/TECHINCAL_TRAINING_ASSIGNMENTS/blob/main/datastructures.ipynb\" target=\"_parent\"><img src=\"https://colab.research.google.com/assets/colab-badge.svg\" alt=\"Open In Colab\"/></a>"
      ]
    },
    {
      "cell_type": "code",
      "execution_count": 1,
      "metadata": {
        "id": "uZZVsavmc5MG"
      },
      "outputs": [],
      "source": [
        "# LIST\n",
        "a = [ 1, 2, 3, \"Potato\", \"Banana\", True, False ]\n",
        "# ORDERED, INDEXED"
      ]
    },
    {
      "cell_type": "code",
      "source": [
        "print(a[0]) # INDEX from left\n"
      ],
      "metadata": {
        "colab": {
          "base_uri": "https://localhost:8080/"
        },
        "id": "0K_dH1y0dPdc",
        "outputId": "536e55f8-0965-4ee1-a180-18e0a17c3845"
      },
      "execution_count": 2,
      "outputs": [
        {
          "output_type": "stream",
          "name": "stdout",
          "text": [
            "1\n"
          ]
        }
      ]
    },
    {
      "cell_type": "code",
      "source": [
        "print(a[-1]) # Index from RIGHT-> last element"
      ],
      "metadata": {
        "colab": {
          "base_uri": "https://localhost:8080/"
        },
        "id": "_REGg1fmdTvC",
        "outputId": "7eed7a25-927c-430c-b603-f444dd264cf7"
      },
      "execution_count": 3,
      "outputs": [
        {
          "output_type": "stream",
          "name": "stdout",
          "text": [
            "False\n"
          ]
        }
      ]
    },
    {
      "cell_type": "code",
      "source": [
        "a\n",
        "# ORDER of elements inside the LIST DOES NOT CHANGE!"
      ],
      "metadata": {
        "colab": {
          "base_uri": "https://localhost:8080/"
        },
        "id": "QJfluwSVdZ9I",
        "outputId": "ca5c8998-82c5-41f1-be55-80ff8dc136c3"
      },
      "execution_count": 4,
      "outputs": [
        {
          "output_type": "execute_result",
          "data": {
            "text/plain": [
              "[1, 2, 3, 'Potato', 'Banana', True, False]"
            ]
          },
          "metadata": {},
          "execution_count": 4
        }
      ]
    },
    {
      "cell_type": "code",
      "source": [
        "# SET\n",
        "s = { \"Banana\", \"Banana\", 42, False, 0, \"Hippo\", \"Pikachu\", 99}\n"
      ],
      "metadata": {
        "id": "3svjIdA4ddJU"
      },
      "execution_count": 5,
      "outputs": []
    },
    {
      "cell_type": "code",
      "source": [
        "s # False = 0"
      ],
      "metadata": {
        "colab": {
          "base_uri": "https://localhost:8080/"
        },
        "id": "cFFlG4Xtd7KQ",
        "outputId": "c4428e76-92bf-4725-bf19-456783f2e935"
      },
      "execution_count": 6,
      "outputs": [
        {
          "output_type": "execute_result",
          "data": {
            "text/plain": [
              "{42, 99, 'Banana', False, 'Hippo', 'Pikachu'}"
            ]
          },
          "metadata": {},
          "execution_count": 6
        }
      ]
    },
    {
      "cell_type": "code",
      "source": [
        "# UNIQUE ELEMENTS "
      ],
      "metadata": {
        "id": "AVOJ5oBcd7vu"
      },
      "execution_count": 7,
      "outputs": []
    },
    {
      "cell_type": "code",
      "source": [
        "s[0] # ERROR -> UNINDEXED, UNORDERED!"
      ],
      "metadata": {
        "colab": {
          "base_uri": "https://localhost:8080/",
          "height": 166
        },
        "id": "cQKu9nHregNz",
        "outputId": "2149d978-96b2-42f8-cdaf-de1ab9f6440e"
      },
      "execution_count": 8,
      "outputs": [
        {
          "output_type": "error",
          "ename": "TypeError",
          "evalue": "ignored",
          "traceback": [
            "\u001b[0;31m---------------------------------------------------------------------------\u001b[0m",
            "\u001b[0;31mTypeError\u001b[0m                                 Traceback (most recent call last)",
            "\u001b[0;32m<ipython-input-8-b812ab8f1122>\u001b[0m in \u001b[0;36m<module>\u001b[0;34m\u001b[0m\n\u001b[0;32m----> 1\u001b[0;31m \u001b[0ms\u001b[0m\u001b[0;34m[\u001b[0m\u001b[0;36m0\u001b[0m\u001b[0;34m]\u001b[0m \u001b[0;31m# ERROR -> UNINDEXED, UNORDERED!\u001b[0m\u001b[0;34m\u001b[0m\u001b[0;34m\u001b[0m\u001b[0m\n\u001b[0m",
            "\u001b[0;31mTypeError\u001b[0m: 'set' object is not subscriptable"
          ]
        }
      ]
    },
    {
      "cell_type": "code",
      "source": [
        "# Tuple\n",
        "# READONLY\n",
        "# ONce created-> CANNOT BE EDITED\n",
        "t = (1,2,3)"
      ],
      "metadata": {
        "id": "14COy1Z7ek_-"
      },
      "execution_count": 9,
      "outputs": []
    },
    {
      "cell_type": "code",
      "source": [
        "t[-1], t[0] # INDEXED, ORDERED"
      ],
      "metadata": {
        "colab": {
          "base_uri": "https://localhost:8080/"
        },
        "id": "bmIjxYo5e1gB",
        "outputId": "2bf1bbf8-7225-4f1d-d7a3-8c081d6c5cec"
      },
      "execution_count": 10,
      "outputs": [
        {
          "output_type": "execute_result",
          "data": {
            "text/plain": [
              "(3, 1)"
            ]
          },
          "metadata": {},
          "execution_count": 10
        }
      ]
    },
    {
      "cell_type": "code",
      "source": [
        "t[0] = \"Happy\" # ERROR-> READONLY not editable!"
      ],
      "metadata": {
        "colab": {
          "base_uri": "https://localhost:8080/",
          "height": 166
        },
        "id": "TopBcnkAe2ds",
        "outputId": "9559ea58-d74f-46c7-96c8-69c16c3723cd"
      },
      "execution_count": 11,
      "outputs": [
        {
          "output_type": "error",
          "ename": "TypeError",
          "evalue": "ignored",
          "traceback": [
            "\u001b[0;31m---------------------------------------------------------------------------\u001b[0m",
            "\u001b[0;31mTypeError\u001b[0m                                 Traceback (most recent call last)",
            "\u001b[0;32m<ipython-input-11-49e3aa9fe940>\u001b[0m in \u001b[0;36m<module>\u001b[0;34m\u001b[0m\n\u001b[0;32m----> 1\u001b[0;31m \u001b[0mt\u001b[0m\u001b[0;34m[\u001b[0m\u001b[0;36m0\u001b[0m\u001b[0;34m]\u001b[0m \u001b[0;34m=\u001b[0m \u001b[0;34m\"Happy\"\u001b[0m \u001b[0;31m# ERROR-> READONLY not editable!\u001b[0m\u001b[0;34m\u001b[0m\u001b[0;34m\u001b[0m\u001b[0m\n\u001b[0m",
            "\u001b[0;31mTypeError\u001b[0m: 'tuple' object does not support item assignment"
          ]
        }
      ]
    },
    {
      "cell_type": "code",
      "source": [
        "# Dictionary\n",
        "# SET with INDEXES!\n",
        "# KEY-VALUE PAIRS-> keys are indexes, elements are values\n",
        "d = { \"Matrix\":\"Keanu\", \"Devil'sAdvocate\": \"Keanu\", \"FavFood\": \"Samosa\", 42: \"Life, Universe and Everything\", False: \"Bye bye\", 3.14: \"Value of Pi\"}"
      ],
      "metadata": {
        "id": "0wX5KibmfANY"
      },
      "execution_count": 12,
      "outputs": []
    },
    {
      "cell_type": "code",
      "source": [
        "d[\"Matrix\"]"
      ],
      "metadata": {
        "colab": {
          "base_uri": "https://localhost:8080/",
          "height": 35
        },
        "id": "fTGt4Rxkff46",
        "outputId": "8b1e99b2-f393-44f3-9968-2adcbe51d131"
      },
      "execution_count": 13,
      "outputs": [
        {
          "output_type": "execute_result",
          "data": {
            "text/plain": [
              "'Keanu'"
            ],
            "application/vnd.google.colaboratory.intrinsic+json": {
              "type": "string"
            }
          },
          "metadata": {},
          "execution_count": 13
        }
      ]
    },
    {
      "cell_type": "code",
      "source": [
        "d[3.14]"
      ],
      "metadata": {
        "colab": {
          "base_uri": "https://localhost:8080/",
          "height": 35
        },
        "id": "trTa7Fgsfh2q",
        "outputId": "54df51b0-39a0-4feb-a8f4-878db6d161e1"
      },
      "execution_count": 14,
      "outputs": [
        {
          "output_type": "execute_result",
          "data": {
            "text/plain": [
              "'Value of Pi'"
            ],
            "application/vnd.google.colaboratory.intrinsic+json": {
              "type": "string"
            }
          },
          "metadata": {},
          "execution_count": 14
        }
      ]
    },
    {
      "cell_type": "code",
      "source": [
        "d[42]"
      ],
      "metadata": {
        "colab": {
          "base_uri": "https://localhost:8080/",
          "height": 35
        },
        "id": "1SNHEiorfjkF",
        "outputId": "a3d3a8da-7784-4751-86a1-fec6c48aec69"
      },
      "execution_count": 15,
      "outputs": [
        {
          "output_type": "execute_result",
          "data": {
            "text/plain": [
              "'Life, Universe and Everything'"
            ],
            "application/vnd.google.colaboratory.intrinsic+json": {
              "type": "string"
            }
          },
          "metadata": {},
          "execution_count": 15
        }
      ]
    },
    {
      "cell_type": "code",
      "source": [
        "d[55] = 42\n",
        "# New element inserted!\n"
      ],
      "metadata": {
        "id": "aFzkE-S_flK4"
      },
      "execution_count": 16,
      "outputs": []
    },
    {
      "cell_type": "code",
      "source": [
        "# Dictionary is 2 separate lists-> KEYS and VALUES!\n",
        "for k,v in d.items():\n",
        "  print(\"Key = \", k, end=\",\")\n",
        "  print(\" Value = \", v)\n",
        "  # print-> by default changes the line!"
      ],
      "metadata": {
        "colab": {
          "base_uri": "https://localhost:8080/"
        },
        "id": "vqIgDvSlfrK_",
        "outputId": "1c653aca-cca4-4a43-ced4-e1de534fee67"
      },
      "execution_count": 17,
      "outputs": [
        {
          "output_type": "stream",
          "name": "stdout",
          "text": [
            "Key =  Matrix, Value =  Keanu\n",
            "Key =  Devil'sAdvocate, Value =  Keanu\n",
            "Key =  FavFood, Value =  Samosa\n",
            "Key =  42, Value =  Life, Universe and Everything\n",
            "Key =  False, Value =  Bye bye\n",
            "Key =  3.14, Value =  Value of Pi\n",
            "Key =  55, Value =  42\n"
          ]
        }
      ]
    },
    {
      "cell_type": "code",
      "source": [
        "d.items()"
      ],
      "metadata": {
        "colab": {
          "base_uri": "https://localhost:8080/"
        },
        "id": "t7suefMcf9dP",
        "outputId": "cd3c3dd8-7e84-4cbd-9d0c-6280cdaec9c8"
      },
      "execution_count": 18,
      "outputs": [
        {
          "output_type": "execute_result",
          "data": {
            "text/plain": [
              "dict_items([('Matrix', 'Keanu'), (\"Devil'sAdvocate\", 'Keanu'), ('FavFood', 'Samosa'), (42, 'Life, Universe and Everything'), (False, 'Bye bye'), (3.14, 'Value of Pi'), (55, 42)])"
            ]
          },
          "metadata": {},
          "execution_count": 18
        }
      ]
    },
    {
      "cell_type": "code",
      "source": [
        ""
      ],
      "metadata": {
        "id": "QGpQnaidgL8u"
      },
      "execution_count": null,
      "outputs": []
    }
  ]
}