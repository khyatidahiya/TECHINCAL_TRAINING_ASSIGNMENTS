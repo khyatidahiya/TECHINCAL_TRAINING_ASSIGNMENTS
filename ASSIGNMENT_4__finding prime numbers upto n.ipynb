{
  "nbformat": 4,
  "nbformat_minor": 0,
  "metadata": {
    "colab": {
      "name": "ASSIGNMENT 4.ipynb",
      "provenance": [],
      "authorship_tag": "ABX9TyOEZyYN553SciOVXaZNnFcR",
      "include_colab_link": true
    },
    "kernelspec": {
      "name": "python3",
      "display_name": "Python 3"
    },
    "language_info": {
      "name": "python"
    }
  },
  "cells": [
    {
      "cell_type": "markdown",
      "metadata": {
        "id": "view-in-github",
        "colab_type": "text"
      },
      "source": [
        "<a href=\"https://colab.research.google.com/github/khyatidahiya/TECHINCAL_TRAINING_ASSIGNMENTS/blob/main/ASSIGNMENT_4__finding%20prime%20numbers%20upto%20n.ipynb\" target=\"_parent\"><img src=\"https://colab.research.google.com/assets/colab-badge.svg\" alt=\"Open In Colab\"/></a>"
      ]
    },
    {
      "cell_type": "code",
      "execution_count": 10,
      "metadata": {
        "id": "388rfX-ZECzm"
      },
      "outputs": [],
      "source": [
        "\n",
        "def isPrime(n):\n",
        "  if(n==1 or n==0):\n",
        "    return False\n",
        "  for i in range(2,n):\n",
        "    if(n%i==0):\n",
        "      return False\n",
        "  return True\n",
        "\n",
        "\n"
      ]
    },
    {
      "cell_type": "code",
      "source": [
        "\n",
        "N=int(input(\"enter the range upto which you want to find prime numbers =\"))\n",
        "for i in range(1,N+1):\n",
        "  if(isPrime(i)):\n",
        "    print(i,end=\" \")"
      ],
      "metadata": {
        "colab": {
          "base_uri": "https://localhost:8080/"
        },
        "id": "2Wkx4BPgFeZp",
        "outputId": "63028fc7-649d-4237-e1b3-49e507c4cf06"
      },
      "execution_count": 11,
      "outputs": [
        {
          "output_type": "stream",
          "name": "stdout",
          "text": [
            "enter the range upto which you want to find prime numbers =10\n",
            "2 3 5 7 "
          ]
        }
      ]
    },
    {
      "cell_type": "code",
      "source": [
        "\n",
        "def isPrime(n):\n",
        "  if(n==1 or n==0):\n",
        "    return False\n",
        "  for i in range(2,n):\n",
        "    if(n%i==0):\n",
        "      return False\n",
        "  return True"
      ],
      "metadata": {
        "id": "Yxd1qK5sGKrN"
      },
      "execution_count": 12,
      "outputs": []
    },
    {
      "cell_type": "code",
      "source": [
        "\n",
        "n=int(input(\"enter lower range=\"))\n",
        "N=int(input(\"enter the upper range =\"))\n",
        "for i in range(n,N+1):\n",
        "  if(isPrime(i)):\n",
        "    print(i,end=\" \")"
      ],
      "metadata": {
        "colab": {
          "base_uri": "https://localhost:8080/"
        },
        "id": "IE5A_yRrGUH5",
        "outputId": "b1000d50-69b2-441f-8427-0bd3b77d9ab0"
      },
      "execution_count": 13,
      "outputs": [
        {
          "output_type": "stream",
          "name": "stdout",
          "text": [
            "enter lower range=2\n",
            "enter the upper range =10\n",
            "2 3 5 7 "
          ]
        }
      ]
    }
  ]
}